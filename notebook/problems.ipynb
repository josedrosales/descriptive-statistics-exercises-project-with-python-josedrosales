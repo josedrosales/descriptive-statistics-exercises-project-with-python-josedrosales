{
    "cells": [
        {
            "cell_type": "markdown",
            "id": "ac622319",
            "metadata": {},
            "source": [
                "# Descriptive statistics problems"
            ]
        },
        {
            "cell_type": "markdown",
            "id": "aa8993e4",
            "metadata": {},
            "source": [
                "### Exercise 1"
            ]
        },
        {
            "cell_type": "markdown",
            "id": "5e0ab0d5",
            "metadata": {},
            "source": [
                "We will use Numpy to obtain information to describe statistically.\n",
                "\n",
                "- Generate an array of 100 elements following a normal distribution.\n",
                "- Generate an array of 100 elements following a chi-square distribution with 3 degrees of freedom.\n",
                "- Calculate the main metrics and statistical measures that best describe the two vectors."
            ]
        },
        {
            "cell_type": "code",
            "execution_count": 159,
            "id": "34720ab6",
            "metadata": {},
            "outputs": [],
            "source": [
                "# TODO\n",
                "import numpy as np\n",
                "\n",
                "tamano = 100\n",
                "grados_libertad = 3\n",
                "np.random.seed(42)\n",
                "normal_dist = np.random.normal(size = tamano)\n",
                "chi_dist = np.random.chisquare(df = grados_libertad, size = tamano)"
            ]
        },
        {
            "cell_type": "code",
            "execution_count": 160,
            "id": "dbf8fcdf",
            "metadata": {},
            "outputs": [
                {
                    "name": "stdout",
                    "output_type": "stream",
                    "text": [
                        "La media de la distribución normal es: -0.104\n",
                        "La media de la distribución chi-cuadrada es: 2.938\n"
                    ]
                }
            ],
            "source": [
                "#Medias\n",
                "media_normal = np.mean(normal_dist)\n",
                "media_chi = np.mean(chi_dist)\n",
                "print(f\"La media de la distribución normal es: {round(media_normal,3)}\")\n",
                "print(f\"La media de la distribución chi-cuadrada es: {round(media_chi,3)}\")"
            ]
        },
        {
            "cell_type": "code",
            "execution_count": 161,
            "id": "673a6040",
            "metadata": {},
            "outputs": [
                {
                    "name": "stdout",
                    "output_type": "stream",
                    "text": [
                        "La mediana de la distribución normal es: -0.127\n",
                        "La mediana de la distribución chi-cuadrada es: 2.464\n"
                    ]
                }
            ],
            "source": [
                "#Medianas\n",
                "mediana_normal = np.median(normal_dist)\n",
                "mediana_chi = np.median(chi_dist)\n",
                "print(f\"La mediana de la distribución normal es: {round(mediana_normal,3)}\")\n",
                "print(f\"La mediana de la distribución chi-cuadrada es: {round(mediana_chi,3)}\")"
            ]
        },
        {
            "cell_type": "code",
            "execution_count": 162,
            "id": "8de3e50f",
            "metadata": {},
            "outputs": [
                {
                    "name": "stdout",
                    "output_type": "stream",
                    "text": [
                        "La moda de la distribución normal es: 0.497\n",
                        "La moda de la distribución chi-cuadrada es: 0.417\n"
                    ]
                }
            ],
            "source": [
                "#Modas\n",
                "import statistics as stats\n",
                "\n",
                "moda_normal = stats.mode(normal_dist)\n",
                "moda_chi = stats.mode(chi_dist)\n",
                "print(f\"La moda de la distribución normal es: {round(moda_normal,3)}\")\n",
                "print(f\"La moda de la distribución chi-cuadrada es: {round(moda_chi,3)}\")"
            ]
        },
        {
            "cell_type": "code",
            "execution_count": 163,
            "id": "1fe3c4fd",
            "metadata": {},
            "outputs": [
                {
                    "name": "stdout",
                    "output_type": "stream",
                    "text": [
                        "El rango de la distribución normal es: 4.472\n",
                        "El rango de la distribución chi-cuadrada es: 12.592\n"
                    ]
                }
            ],
            "source": [
                "#Rangos\n",
                "rango_normal = max(normal_dist) - min(normal_dist)\n",
                "rango_chi = max(chi_dist) - min(chi_dist)\n",
                "print(f\"El rango de la distribución normal es: {round(rango_normal,3)}\")\n",
                "print(f\"El rango de la distribución chi-cuadrada es: {round(rango_chi,3)}\")"
            ]
        },
        {
            "cell_type": "code",
            "execution_count": 164,
            "id": "ff046783",
            "metadata": {},
            "outputs": [
                {
                    "name": "stdout",
                    "output_type": "stream",
                    "text": [
                        "La varianza de la distribución normal es: 0.825\n",
                        "La varianza de la distribución chi-cuadrada es: 5.876\n"
                    ]
                }
            ],
            "source": [
                "#Varianzas\n",
                "var_normal = stats.variance(normal_dist)\n",
                "var_chi = stats.variance(chi_dist)\n",
                "print(f\"La varianza de la distribución normal es: {round(var_normal,3)}\")\n",
                "print(f\"La varianza de la distribución chi-cuadrada es: {round(var_chi,3)}\")"
            ]
        },
        {
            "cell_type": "code",
            "execution_count": 165,
            "id": "689ce641",
            "metadata": {},
            "outputs": [
                {
                    "name": "stdout",
                    "output_type": "stream",
                    "text": [
                        "La desv. estándar de la distribución normal es: 0.908\n",
                        "La desv. estándar de la distribución chi-cuadrada es: 2.424\n"
                    ]
                }
            ],
            "source": [
                "#Desv. estándar\n",
                "desv_normal = stats.stdev(normal_dist)\n",
                "desv_chi = stats.stdev(chi_dist)\n",
                "print(f\"La desv. estándar de la distribución normal es: {round(desv_normal,3)}\")\n",
                "print(f\"La desv. estándar de la distribución chi-cuadrada es: {round(desv_chi,3)}\")"
            ]
        },
        {
            "cell_type": "code",
            "execution_count": 166,
            "id": "cb791c60",
            "metadata": {},
            "outputs": [
                {
                    "name": "stdout",
                    "output_type": "stream",
                    "text": [
                        "El Q1 de la distribución normal es: -0.601\n",
                        "El Q2 de la distribución normal es: -0.127\n",
                        "El Q3 de la distribución normal es: 0.406\n",
                        "\n",
                        "El Q1 de la distribución chi-cuadrada es: 1.092\n",
                        "El Q2 de la distribución chi-cuadrada es: 2.464\n",
                        "El Q3 de la distribución chi-cuadrada es: 3.983\n"
                    ]
                }
            ],
            "source": [
                "#Cuartiles\n",
                "cuartil_25_normal = np.percentile(normal_dist,25)\n",
                "cuartil_50_normal = np.percentile(normal_dist,50)\n",
                "cuartil_75_normal = np.percentile(normal_dist,75)\n",
                "\n",
                "print(f\"El Q1 de la distribución normal es: {round(cuartil_25_normal,3)}\")\n",
                "print(f\"El Q2 de la distribución normal es: {round(cuartil_50_normal,3)}\")\n",
                "print(f\"El Q3 de la distribución normal es: {round(cuartil_75_normal,3)}\")\n",
                "print()\n",
                "cuartil_25_chi = np.percentile(chi_dist,25)\n",
                "cuartil_50_chi = np.percentile(chi_dist,50)\n",
                "cuartil_75_chi = np.percentile(chi_dist,75)\n",
                "\n",
                "print(f\"El Q1 de la distribución chi-cuadrada es: {round(cuartil_25_chi,3)}\")\n",
                "print(f\"El Q2 de la distribución chi-cuadrada es: {round(cuartil_50_chi,3)}\")\n",
                "print(f\"El Q3 de la distribución chi-cuadrada es: {round(cuartil_75_chi,3)}\")"
            ]
        },
        {
            "cell_type": "code",
            "execution_count": 167,
            "id": "f1b6040f",
            "metadata": {},
            "outputs": [
                {
                    "name": "stdout",
                    "output_type": "stream",
                    "text": [
                        "La asimetría de la distribución normal es: -0.175\n",
                        "La asimetría de la distribución chi-cuadrada es: 1.668\n"
                    ]
                }
            ],
            "source": [
                "#Asimetría\n",
                "from scipy.stats import skew\n",
                "\n",
                "skewness_normal = skew(normal_dist)\n",
                "skewness_chi = skew(chi_dist)\n",
                "print(f\"La asimetría de la distribución normal es: {round(skewness_normal,3)}\")\n",
                "print(f\"La asimetría de la distribución chi-cuadrada es: {round(skewness_chi,3)}\")"
            ]
        },
        {
            "cell_type": "code",
            "execution_count": 168,
            "id": "3f5c575c",
            "metadata": {},
            "outputs": [
                {
                    "name": "stdout",
                    "output_type": "stream",
                    "text": [
                        "La curtosis de la distribución normal es: -0.155\n",
                        "La curtosis de la distribución chi-cuadrada es: 3.621\n"
                    ]
                }
            ],
            "source": [
                "#Curtosis\n",
                "from scipy.stats import kurtosis\n",
                "\n",
                "curtosis_normal = kurtosis(normal_dist)\n",
                "curtosis_chi = kurtosis(chi_dist)\n",
                "print(f\"La curtosis de la distribución normal es: {round(curtosis_normal,3)}\")\n",
                "print(f\"La curtosis de la distribución chi-cuadrada es: {round(curtosis_chi,3)}\")"
            ]
        },
        {
            "cell_type": "markdown",
            "id": "46c70c3d",
            "metadata": {},
            "source": [
                "### Exercise 2\n",
                "\n",
                "Write a Python program to calculate the standard deviation of the following data:\n",
                "\n",
                "```py\n",
                "data = [4, 2, 5, 8, 6]\n",
                "```"
            ]
        },
        {
            "cell_type": "code",
            "execution_count": 169,
            "id": "d590308e",
            "metadata": {},
            "outputs": [
                {
                    "name": "stdout",
                    "output_type": "stream",
                    "text": [
                        "La desviación estándar poblacional usando la función programada 'stddev' fue de: 2.0\n",
                        "\n",
                        "La desviación estándar poblacional usando la función de Python fue de: 2.0\n"
                    ]
                }
            ],
            "source": [
                "# TODO\n",
                "import numpy as np\n",
                "import statistics as stats\n",
                "import math\n",
                "\n",
                "data = [4, 2, 5, 8, 6]\n",
                "\n",
                "def stddev(x):\n",
                "\n",
                "    media = stats.mean(x)\n",
                "    lista = [(1/(len(x)))*(i-media)**2 for i in x]\n",
                "    sigma = math.sqrt(sum(lista))\n",
                "\n",
                "    return sigma\n",
                "\n",
                "print(f\"La desviación estándar poblacional usando la función programada 'stddev' fue de: {stddev(data)}\")\n",
                "print()\n",
                "print(f\"La desviación estándar poblacional usando la función de Python fue de: {round(stats.pstdev(data),6)}\")\n",
                "\n",
                "#Importante recalcar que se calculó en ambos casos la desviación estándar poblacional, no muestral. \n",
                "#Es decir, la división es entre n y no entre n-1. Es por ello que el resultado difiere ligeramente \n",
                "#del archivo de soluciones."
            ]
        }
    ],
    "metadata": {
        "interpreter": {
            "hash": "9248718ffe6ce6938b217e69dbcc175ea21f4c6b28a317e96c05334edae734bb"
        },
        "kernelspec": {
            "display_name": "Python 3.9.12 ('ML-BOOTCAMP')",
            "language": "python",
            "name": "python3"
        },
        "language_info": {
            "codemirror_mode": {
                "name": "ipython",
                "version": 3
            },
            "file_extension": ".py",
            "mimetype": "text/x-python",
            "name": "python",
            "nbconvert_exporter": "python",
            "pygments_lexer": "ipython3",
            "version": "3.11.4"
        }
    },
    "nbformat": 4,
    "nbformat_minor": 5
}
